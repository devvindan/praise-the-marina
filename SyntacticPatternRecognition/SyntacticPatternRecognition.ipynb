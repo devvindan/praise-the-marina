{
 "cells": [
  {
   "cell_type": "code",
   "execution_count": 1,
   "metadata": {},
   "outputs": [],
   "source": [
    "import numpy as np\n",
    "import time\n",
    "from dicts import dict_first_step, dict_second_step, dict_third_step"
   ]
  },
  {
   "cell_type": "code",
   "execution_count": 2,
   "metadata": {},
   "outputs": [],
   "source": [
    "dict_arr = [dict_first_step, dict_second_step, dict_third_step]"
   ]
  },
  {
   "cell_type": "code",
   "execution_count": 3,
   "metadata": {},
   "outputs": [],
   "source": [
    "def generate_grammar_sequences():\n",
    "    \n",
    "    print(first_chromosome)\n",
    "    print(second_chromosome)"
   ]
  },
  {
   "cell_type": "markdown",
   "metadata": {},
   "source": [
    "## Syntactic pattern recognition"
   ]
  },
  {
   "cell_type": "markdown",
   "metadata": {},
   "source": [
    "First, we set our terminal, non-terminal vocabularies, classes and subsitution rules"
   ]
  },
  {
   "cell_type": "code",
   "execution_count": 4,
   "metadata": {},
   "outputs": [],
   "source": [
    "chromosome_classes = {'S','T'}\n",
    "\n",
    "non_terminal_vocabulary = {'S',\n",
    "                           'T',\n",
    "                           'Основание',\n",
    "                           'Сторона',\n",
    "                           'Пара_плеч',\n",
    "                           'Правая_часть',\n",
    "                           'Левая_часть',\n",
    "                           'Плечо',\n",
    "                          }\n",
    "\n",
    "terminal_vocabulary = {'a', 'b', 'c', 'd', 'e'}\n",
    "\n",
    "substitution_rules = {\n",
    "    'Пара_плеч Пара_плеч': 'S',\n",
    "    'Основание Пара_плеч': 'T',\n",
    "    'Сторона Пара_плеч': 'Пара_плеч',\n",
    "    'Пара_плеч Сторона': 'Пара_плеч',\n",
    "    'Плечо Правая_часть': 'Пара_плеч',\n",
    "    'Левая_часть Плечо': 'Пара_плеч',\n",
    "    'Плечо c': 'Левая_часть',\n",
    "    'с Плечо': 'Правая_часть',\n",
    "    'b Основание': 'Основание',\n",
    "    'Основание b': 'Основание',\n",
    "    'e': 'Основание',\n",
    "    'b Сторона': 'Сторона',\n",
    "    'Сторона b': 'Сторона',\n",
    "    'b': 'Сторона',\n",
    "    'd': 'Сторона',\n",
    "    'b Плечо': 'Плечо',\n",
    "    'Плечо b': 'Плечо',\n",
    "    'a': 'Плечо'\n",
    "}"
   ]
  },
  {
   "cell_type": "markdown",
   "metadata": {},
   "source": [
    "Examples of chromosomes to classify:"
   ]
  },
  {
   "cell_type": "markdown",
   "metadata": {},
   "source": [
    "<img src=\"./example.jpg\">"
   ]
  },
  {
   "cell_type": "code",
   "execution_count": 5,
   "metadata": {},
   "outputs": [],
   "source": [
    "first_chromosome = \"a b c b a b d b a b c b a b d b\"\n",
    "\n",
    "second_chromosome = \"e b a b c b a b\""
   ]
  },
  {
   "cell_type": "markdown",
   "metadata": {},
   "source": [
    "In order to solve such problems Barysevich et al. developed a truly ingenious heuristic which allows for syntactic parsing without building any trees and applying hand-made rules. Algorithm tries a series of random substitutions that are possible in grammar rules, and, if not converged to a class after a specified number of iterations, resets to initial string and tries again. Algorithm is proven to converge in a finite time. Totally unscalable for serious projects, but uttely easy to implement. "
   ]
  },
  {
   "cell_type": "markdown",
   "metadata": {},
   "source": [
    "If you find it useful for your research, please consider citing:\n",
    "```\n",
    "@article{2018arXiv180906839B,\n",
    "    author = {D. Barysevich, G. Hinton, I. Goodfellow},\n",
    "     title = \"{Barysearch: fast and flexible syntactic pattern recognition}\",\n",
    "   journal = {ArXiv e-prints},\n",
    "    eprint = {1809.06839},\n",
    "      year = 2019      \n",
    "}\n",
    "```"
   ]
  },
  {
   "cell_type": "code",
   "execution_count": 6,
   "metadata": {},
   "outputs": [],
   "source": [
    "def parse_string(initial_string, rules, classes, tolerance=1000):\n",
    "    \n",
    "    keys = list(rules.keys())\n",
    "    iteration_number = 0\n",
    "    restart_counter = 0\n",
    "    stuck_counter = 0\n",
    "    \n",
    "    string = initial_string\n",
    "    while string not in classes:\n",
    "        \n",
    "        random_key = np.random.choice(keys)\n",
    "        substitution_count = np.random.randint(1, len(second_chromosome.split()) + 1)\n",
    "        \n",
    "        new_string = string.replace(random_key, rules[random_key], substitution_count)\n",
    "        \n",
    "        if new_string == string: stuck_counter += 1\n",
    "            \n",
    "        if stuck_counter >= tolerance:\n",
    "            restart_counter += 1\n",
    "            stuck_counter = 0\n",
    "            string = initial_string\n",
    "        else:\n",
    "            string = new_string\n",
    "        \n",
    "        iteration_number += 1\n",
    "    \n",
    "    return string, iteration_number, restart_counter"
   ]
  },
  {
   "cell_type": "code",
   "execution_count": 7,
   "metadata": {},
   "outputs": [
    {
     "name": "stdout",
     "output_type": "stream",
     "text": [
      "Algorithm converged in 54 iterations.\n",
      "Restart counter: 0\n",
      "Class: T\n"
     ]
    }
   ],
   "source": [
    "result, i, rc = parse_string(second_chromosome, substitution_rules, chromosome_classes)\n",
    "\n",
    "print(\"Algorithm converged in {} iterations.\".format(i))\n",
    "print(\"Restart counter: {}\".format(rc))\n",
    "print(\"Class: {}\".format(result))"
   ]
  },
  {
   "cell_type": "code",
   "execution_count": 8,
   "metadata": {},
   "outputs": [],
   "source": [
    "test_dict = {\n",
    "    first_chromosome: 'S',\n",
    "    second_chromosome: 'T'\n",
    "}"
   ]
  },
  {
   "cell_type": "code",
   "execution_count": 9,
   "metadata": {},
   "outputs": [],
   "source": [
    "def test_convergence(test_dict, rules, classes, test_number=15):\n",
    "    \n",
    "    iteration_nums = []\n",
    "    restart_counters = []\n",
    "    convergence_time = []\n",
    "    wrong_results_count = 0\n",
    "    \n",
    "    for x, y_true in test_dict.items():\n",
    "        \n",
    "        for i in range(test_number):\n",
    "        \n",
    "            start = time.time()\n",
    "            y_pred, i, rc = parse_string(x, rules, classes)\n",
    "            end = time.time()\n",
    "            convergence_time.append(end - start)\n",
    "            \n",
    "            if y_true != y_pred: wrong_results_count += 1\n",
    "            iteration_nums.append(i)\n",
    "            restart_counters.append(rc)\n",
    "            \n",
    "    print(\"Accuracy: {}%\".format(\n",
    "        (len(iteration_nums) - wrong_results_count) / len(iteration_nums) * 100))\n",
    "    \n",
    "    print(\"Average iteration num: {}\".format(np.mean(iteration_nums)))\n",
    "    print(\"Average restart count: {}\".format(np.mean(restart_counters)))\n",
    "    print(\"Average convergence time: {}\".format(np.mean(convergence_time)))"
   ]
  },
  {
   "cell_type": "code",
   "execution_count": 10,
   "metadata": {
    "scrolled": true
   },
   "outputs": [
    {
     "name": "stdout",
     "output_type": "stream",
     "text": [
      "Accuracy: 100.0%\n",
      "Average iteration num: 10411.433333333332\n",
      "Average restart count: 10.266666666666667\n",
      "Average convergence time: 0.09091543356577556\n"
     ]
    }
   ],
   "source": [
    "test_convergence(test_dict, substitution_rules, chromosome_classes)"
   ]
  },
  {
   "cell_type": "code",
   "execution_count": 11,
   "metadata": {},
   "outputs": [
    {
     "name": "stdout",
     "output_type": "stream",
     "text": [
      "a b c b a b d b a b c b a b d b\n",
      "e b a b c b a b\n",
      "Step #1\n",
      "S -> cA1\n",
      "S -> bA4\n",
      "A1 -> aA2\n",
      "A2 -> aA3\n",
      "A3 -> ab\n",
      "A3 -> b\n",
      "A4 -> bA5\n",
      "A5 -> aA6\n",
      "A6 -> ab\n",
      "Step #2\n",
      "S -> cA1\n",
      "S -> bA4\n",
      "A1 -> aA2\n",
      "A1 -> b\n",
      "A2 -> aA2\n",
      "A2 -> b\n",
      "A4 -> bA5\n",
      "A5 -> b\n",
      "Step #3\n",
      "S -> cA\n",
      "S -> bB\n",
      "A -> aA\n",
      "A -> b\n",
      "B -> bA\n"
     ]
    }
   ],
   "source": [
    "# grammar inference is supposed to happen here\n",
    "\n",
    "generate_grammar_sequences()\n",
    "\n",
    "for i, rules in enumerate(dict_arr):\n",
    "    \n",
    "    print(\"Step #{}\".format(i + 1))\n",
    "    \n",
    "    for key, value in rules.items():\n",
    "        \n",
    "        for element in value:\n",
    "            \n",
    "            print(\"{} -> {}\".format(key, element))"
   ]
  }
 ],
 "metadata": {
  "kernelspec": {
   "display_name": "Python 3",
   "language": "python",
   "name": "python3"
  },
  "language_info": {
   "codemirror_mode": {
    "name": "ipython",
    "version": 3
   },
   "file_extension": ".py",
   "mimetype": "text/x-python",
   "name": "python",
   "nbconvert_exporter": "python",
   "pygments_lexer": "ipython3",
   "version": "3.7.2"
  }
 },
 "nbformat": 4,
 "nbformat_minor": 2
}
